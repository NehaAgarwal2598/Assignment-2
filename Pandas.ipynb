{
  "nbformat": 4,
  "nbformat_minor": 0,
  "metadata": {
    "colab": {
      "name": "Untitled3.ipynb",
      "version": "0.3.2",
      "provenance": [],
      "include_colab_link": true
    },
    "kernelspec": {
      "name": "python3",
      "display_name": "Python 3"
    }
  },
  "cells": [
    {
      "cell_type": "markdown",
      "metadata": {
        "id": "view-in-github",
        "colab_type": "text"
      },
      "source": [
        "[View in Colaboratory](https://colab.research.google.com/github/NehaAgarwal2598/Assignment-2/blob/master/Pandas.ipynb)"
      ]
    },
    {
      "metadata": {
        "id": "cGbE814_Xaf9",
        "colab_type": "text"
      },
      "cell_type": "markdown",
      "source": [
        "# Pandas\n",
        "\n",
        "Pandas is an open-source, BSD-licensed Python library providing high-performance, easy-to-use data structures and data analysis tools for the Python programming language. Python with Pandas is used in a wide range of fields including academic and commercial domains including finance, economics, Statistics, analytics, etc.In this tutorial, we will learn the various features of Python Pandas and how to use them in practice.\n",
        "\n",
        "\n",
        "## Import pandas and numpy"
      ]
    },
    {
      "metadata": {
        "id": "zWetN2Mxxc7G",
        "colab_type": "code",
        "colab": {}
      },
      "cell_type": "code",
      "source": [
        "import pandas as pd\n",
        "import numpy as np"
      ],
      "execution_count": 0,
      "outputs": []
    },
    {
      "metadata": {
        "id": "TrMQOdmixc7T",
        "colab_type": "code",
        "colab": {}
      },
      "cell_type": "code",
      "source": [
        "a_ascii = ord('A')\n",
        "z_ascii = ord('Z')\n",
        "alphabets = [chr(i) for i in range(a_ascii, z_ascii+1)]\n",
        "\n",
        "print(alphabets)\n",
        "\n",
        "numbers = np.arange(26)\n",
        "\n",
        "print(numbers)\n",
        "\n",
        "print(type(alphabets), type(numbers))\n",
        "\n",
        "alpha_numbers = dict(zip(alphabets, numbers))\n",
        "\n",
        "print(alpha_numbers)\n",
        "\n",
        "print(type(alpha_numbers))"
      ],
      "execution_count": 0,
      "outputs": []
    },
    {
      "metadata": {
        "id": "6ouDfjWab_Mc",
        "colab_type": "code",
        "colab": {}
      },
      "cell_type": "code",
      "source": [
        "series1 = pd.Series(alphabets)\n",
        "print(series1)"
      ],
      "execution_count": 0,
      "outputs": []
    },
    {
      "metadata": {
        "id": "At7nY7vVcBZ3",
        "colab_type": "code",
        "colab": {}
      },
      "cell_type": "code",
      "source": [
        "series2 = pd.Series(numbers)\n",
        "print(series2)"
      ],
      "execution_count": 0,
      "outputs": []
    },
    {
      "metadata": {
        "id": "J5z-2CWAdH6N",
        "colab_type": "code",
        "colab": {}
      },
      "cell_type": "code",
      "source": [
        "series3 = pd.Series(alpha_numbers)\n",
        "print(series3)"
      ],
      "execution_count": 0,
      "outputs": []
    },
    {
      "metadata": {
        "id": "fYzblGGudKjO",
        "colab_type": "code",
        "colab": {}
      },
      "cell_type": "code",
      "source": [
        "#replace head() with head(n) where n can be any number between [0-25] and observe the output in deach case \n",
        "series3.head()"
      ],
      "execution_count": 0,
      "outputs": []
    },
    {
      "metadata": {
        "id": "73UTZ07EdWki",
        "colab_type": "code",
        "colab": {}
      },
      "cell_type": "code",
      "source": [
        "data = {'alphabets': alphabets, 'values': numbers}\n",
        "\n",
        "df = pd.DataFrame(data)\n",
        "\n",
        "#Lets Change the column `values` to `alpha_numbers`\n",
        "\n",
        "#df.columns = ['alphabets', 'alpha_numbers']\n",
        "\n",
        "df"
      ],
      "execution_count": 0,
      "outputs": []
    },
    {
      "metadata": {
        "id": "uaK_1EO9etGS",
        "colab_type": "code",
        "colab": {}
      },
      "cell_type": "code",
      "source": [
        "# transpose\n",
        "\n",
        "df.T\n",
        "\n",
        "# there are many more operations which we can perform look at the documentation with the subsequent exercises we will learn more"
      ],
      "execution_count": 0,
      "outputs": []
    },
    {
      "metadata": {
        "id": "tc1-KX_Bfe7U",
        "colab_type": "code",
        "colab": {}
      },
      "cell_type": "code",
      "source": [
        "ser = pd.Series(list('abcdefghijklmnopqrstuvwxyz'))\n",
        "pos = [0, 4, 8, 14, 20]\n",
        "\n",
        "vowels = ser.take(pos)\n",
        "\n",
        "df = pd.DataFrame(vowels)#, columns=['vowels'])\n",
        "\n",
        "df.columns = ['vowels']\n",
        "\n",
        "#df.index = [0, 1, 2, 3, 4]\n",
        "\n",
        "df"
      ],
      "execution_count": 0,
      "outputs": []
    },
    {
      "metadata": {
        "id": "5KagP9PpgV2F",
        "colab_type": "code",
        "colab": {}
      },
      "cell_type": "code",
      "source": [
        "ser = pd.Series(['we', 'are', 'learning', 'pandas'])\n",
        "\n",
        "ser.map(lambda x : x.title())\n",
        "\n",
        "titles = [i.title() for i in ser]\n",
        "\n",
        "titles"
      ],
      "execution_count": 0,
      "outputs": []
    },
    {
      "metadata": {
        "id": "h5R0JL2NjuFS",
        "colab_type": "code",
        "colab": {}
      },
      "cell_type": "code",
      "source": [
        "my_index = [1, 2, 3, 4, 5]\n",
        "\n",
        "df1 = pd.DataFrame({'upper values': ['A', 'B', 'C', 'D', 'E'],\n",
        "                   'lower values': ['a', 'b', 'c', 'd', 'e']},\n",
        "                  index = my_index)\n",
        "\n",
        "df1"
      ],
      "execution_count": 0,
      "outputs": []
    },
    {
      "metadata": {
        "id": "G_Frvc3mk93k",
        "colab_type": "code",
        "colab": {}
      },
      "cell_type": "code",
      "source": [
        "new_index = [2, 5, 4, 3, 1]\n",
        "\n",
        "df1.reindex(index = new_index)"
      ],
      "execution_count": 0,
      "outputs": []
    },
    {
      "metadata": {
        "id": "J82LU53m_OU0",
        "colab_type": "text"
      },
      "cell_type": "markdown",
      "source": [
        "# Get to know your Data\n",
        "\n",
        "\n",
        "#### Import necessary modules\n"
      ]
    },
    {
      "metadata": {
        "id": "ZyO1UXL8mtSj",
        "colab_type": "code",
        "colab": {}
      },
      "cell_type": "code",
      "source": [
        "import pandas as pd\n",
        "import numpy as np"
      ],
      "execution_count": 0,
      "outputs": []
    },
    {
      "metadata": {
        "id": "yXTzTowtnwGI",
        "colab_type": "text"
      },
      "cell_type": "markdown",
      "source": [
        "#### Loading CSV Data to a DataFrame"
      ]
    },
    {
      "metadata": {
        "id": "H1Bjlb5wm9f-",
        "colab_type": "code",
        "colab": {}
      },
      "cell_type": "code",
      "source": [
        "iris_df = pd.read_csv('https://raw.githubusercontent.com/uiuc-cse/data-fa14/gh-pages/data/iris.csv')\n"
      ],
      "execution_count": 0,
      "outputs": []
    },
    {
      "metadata": {
        "id": "KE-k7b_Mn5iN",
        "colab_type": "text"
      },
      "cell_type": "markdown",
      "source": [
        "#### See the top 10 rows\n"
      ]
    },
    {
      "metadata": {
        "id": "HY2Ps7xMn4ao",
        "colab_type": "code",
        "colab": {}
      },
      "cell_type": "code",
      "source": [
        "iris_df.head()"
      ],
      "execution_count": 0,
      "outputs": []
    },
    {
      "metadata": {
        "id": "ZQXekIodqOZu",
        "colab_type": "text"
      },
      "cell_type": "markdown",
      "source": [
        "#### Find number of rows and columns\n"
      ]
    },
    {
      "metadata": {
        "id": "6Y-A-lbFqR82",
        "colab_type": "code",
        "colab": {}
      },
      "cell_type": "code",
      "source": [
        "print(iris_df.shape)\n",
        "\n",
        "#first is row and second is column\n",
        "#select row by simple indexing\n",
        "\n",
        "#print(iris_df.shape[0])\n",
        "#print(iris_df.shape[1])"
      ],
      "execution_count": 0,
      "outputs": []
    },
    {
      "metadata": {
        "id": "4ckCiGPhrC_t",
        "colab_type": "text"
      },
      "cell_type": "markdown",
      "source": [
        "#### Print all columns"
      ]
    },
    {
      "metadata": {
        "id": "S6jgMyRDrF2a",
        "colab_type": "code",
        "colab": {}
      },
      "cell_type": "code",
      "source": [
        "print(iris_df.columns)"
      ],
      "execution_count": 0,
      "outputs": []
    },
    {
      "metadata": {
        "id": "kVav5-ACtIqS",
        "colab_type": "text"
      },
      "cell_type": "markdown",
      "source": [
        "#### Check Index\n"
      ]
    },
    {
      "metadata": {
        "id": "iu3I9zIGtLDX",
        "colab_type": "code",
        "colab": {}
      },
      "cell_type": "code",
      "source": [
        "print(iris_df.index)"
      ],
      "execution_count": 0,
      "outputs": []
    },
    {
      "metadata": {
        "id": "psCc7PborOCQ",
        "colab_type": "text"
      },
      "cell_type": "markdown",
      "source": [
        "#### Right now the iris_data set has all the species grouped together let's shuffle it"
      ]
    },
    {
      "metadata": {
        "id": "Bxc8i6avrZPw",
        "colab_type": "code",
        "colab": {}
      },
      "cell_type": "code",
      "source": [
        "#generate a random permutaion on index\n",
        "\n",
        "print(iris_df.head())\n",
        "\n",
        "new_index = np.random.permutation(iris_df.index)\n",
        "iris_df = iris_df.reindex(index = new_index)\n",
        "\n",
        "print(iris_df.head())"
      ],
      "execution_count": 0,
      "outputs": []
    },
    {
      "metadata": {
        "id": "j32h8022sRT8",
        "colab_type": "text"
      },
      "cell_type": "markdown",
      "source": [
        "#### We can also apply an operation on whole column of iris_df"
      ]
    },
    {
      "metadata": {
        "id": "seYXHXsYsYJI",
        "colab_type": "code",
        "colab": {}
      },
      "cell_type": "code",
      "source": [
        "#original\n",
        "\n",
        "print(iris_df.head())\n",
        "\n",
        "iris_df['sepal_width'] *= 10\n",
        "\n",
        "#changed\n",
        "\n",
        "print(iris_df.head())\n",
        "\n",
        "#lets undo the operation\n",
        "\n",
        "iris_df['sepal_width'] /= 10\n",
        "\n",
        "print(iris_df.head())"
      ],
      "execution_count": 0,
      "outputs": []
    },
    {
      "metadata": {
        "id": "R-Ca-LBLzjiF",
        "colab_type": "text"
      },
      "cell_type": "markdown",
      "source": [
        "#### Show all the rows where sepal_width > 3.3"
      ]
    },
    {
      "metadata": {
        "id": "WJ7W-F-d0AoZ",
        "colab_type": "code",
        "colab": {}
      },
      "cell_type": "code",
      "source": [
        "iris_df[iris_df['sepal_width']>3.3]"
      ],
      "execution_count": 0,
      "outputs": []
    },
    {
      "metadata": {
        "id": "gH3DnhCq2Cbl",
        "colab_type": "text"
      },
      "cell_type": "markdown",
      "source": [
        "#### Club two filters together - Find all samples where sepal_width > 3.3 and species is versicolor"
      ]
    },
    {
      "metadata": {
        "id": "4U7ksr_R2H7M",
        "colab_type": "code",
        "colab": {}
      },
      "cell_type": "code",
      "source": [
        "iris_df[(iris_df['sepal_width']>3.3) & (iris_df['species'] == 'versicolor')] "
      ],
      "execution_count": 0,
      "outputs": []
    },
    {
      "metadata": {
        "id": "1lmnB3ot2u7I",
        "colab_type": "text"
      },
      "cell_type": "markdown",
      "source": [
        "#### Sorting a column by value"
      ]
    },
    {
      "metadata": {
        "id": "K7KIj6fv2zWP",
        "colab_type": "code",
        "colab": {}
      },
      "cell_type": "code",
      "source": [
        "iris_df.sort_values(by='sepal_width')#, ascending = False)\n",
        "#pass ascending = False for descending order"
      ],
      "execution_count": 0,
      "outputs": []
    },
    {
      "metadata": {
        "id": "9jg_Z4YCoMSV",
        "colab_type": "text"
      },
      "cell_type": "markdown",
      "source": [
        "#### List all the unique species"
      ]
    },
    {
      "metadata": {
        "id": "M6EN78ufoJY7",
        "colab_type": "code",
        "colab": {}
      },
      "cell_type": "code",
      "source": [
        "species = iris_df['species'].unique()\n",
        "\n",
        "print(species)"
      ],
      "execution_count": 0,
      "outputs": []
    },
    {
      "metadata": {
        "id": "wG1i5nxBodmB",
        "colab_type": "text"
      },
      "cell_type": "markdown",
      "source": [
        "#### Selecting a particular species using boolean mask (learnt in previous exercise)"
      ]
    },
    {
      "metadata": {
        "id": "gZvpbKBwoVUe",
        "colab_type": "code",
        "colab": {}
      },
      "cell_type": "code",
      "source": [
        "setosa = iris_df[iris_df['species'] == species[0]]\n",
        "\n",
        "setosa.head()"
      ],
      "execution_count": 0,
      "outputs": []
    },
    {
      "metadata": {
        "id": "7tumfZ3DotPG",
        "colab_type": "code",
        "colab": {}
      },
      "cell_type": "code",
      "source": [
        "# do the same for other 2 species \n",
        "versicolor = iris_df[iris_df['species'] == species[1]]\n",
        "\n",
        "versicolor.head()"
      ],
      "execution_count": 0,
      "outputs": []
    },
    {
      "metadata": {
        "id": "cUYm5UqVpDPy",
        "colab_type": "code",
        "colab": {}
      },
      "cell_type": "code",
      "source": [
        "\n",
        "\n",
        "virginica = iris_df[iris_df['species'] == species[2]]\n",
        "\n",
        "virginica.head()"
      ],
      "execution_count": 0,
      "outputs": []
    },
    {
      "metadata": {
        "id": "-y1wDc8SpdQs",
        "colab_type": "text"
      },
      "cell_type": "markdown",
      "source": [
        "#### Describe each created species to see the difference\n",
        "\n"
      ]
    },
    {
      "metadata": {
        "id": "eHrn3ZVRpOk5",
        "colab_type": "code",
        "colab": {}
      },
      "cell_type": "code",
      "source": [
        "setosa.describe()"
      ],
      "execution_count": 0,
      "outputs": []
    },
    {
      "metadata": {
        "id": "GwJFT2GlpwUv",
        "colab_type": "code",
        "colab": {}
      },
      "cell_type": "code",
      "source": [
        "versicolor.describe()"
      ],
      "execution_count": 0,
      "outputs": []
    },
    {
      "metadata": {
        "id": "Ad4qhSZLpztf",
        "colab_type": "code",
        "colab": {}
      },
      "cell_type": "code",
      "source": [
        "virginica.describe()"
      ],
      "execution_count": 0,
      "outputs": []
    },
    {
      "metadata": {
        "id": "Vdu0ulZWtr09",
        "colab_type": "text"
      },
      "cell_type": "markdown",
      "source": [
        "#### Let's plot and see the difference"
      ]
    },
    {
      "metadata": {
        "id": "PEVMzRvpttmD",
        "colab_type": "text"
      },
      "cell_type": "markdown",
      "source": [
        "##### import matplotlib.pyplot "
      ]
    },
    {
      "metadata": {
        "id": "rqDXuuAtt7C3",
        "colab_type": "code",
        "colab": {}
      },
      "cell_type": "code",
      "source": [
        "import matplotlib.pyplot as plt\n",
        "\n",
        "#hist creates a histogram there are many more plots(see the documentation) you can play with it.\n",
        "\n",
        "plt.hist(setosa['sepal_length'])\n",
        "plt.hist(versicolor['sepal_length'])\n",
        "plt.hist(virginica['sepal_length'])"
      ],
      "execution_count": 0,
      "outputs": []
    },
    {
      "metadata": {
        "id": "2LTtpUJEibjg",
        "colab_type": "text"
      },
      "cell_type": "markdown",
      "source": [
        "# Pandas Exercise :\n",
        "\n",
        "\n",
        "#### import necessary modules"
      ]
    },
    {
      "metadata": {
        "id": "c3_UBbMRhiKx",
        "colab_type": "code",
        "colab": {}
      },
      "cell_type": "code",
      "source": [
        "import numpy as np\n",
        "import pandas as pd"
      ],
      "execution_count": 0,
      "outputs": []
    },
    {
      "metadata": {
        "id": "tp-cTCyWi8mR",
        "colab_type": "text"
      },
      "cell_type": "markdown",
      "source": [
        "#### Load url = \"https://archive.ics.uci.edu/ml/machine-learning-databases/wine/wine.data\" to a dataframe named wine_df\n",
        "\n",
        "This is a wine dataset\n",
        "\n"
      ]
    },
    {
      "metadata": {
        "id": "DMojQY3thrRi",
        "colab_type": "code",
        "colab": {}
      },
      "cell_type": "code",
      "source": [
        "wine_df = pd.read_csv('https://archive.ics.uci.edu/ml/machine-learning-databases/wine/wine.data')\n"
      ],
      "execution_count": 0,
      "outputs": []
    },
    {
      "metadata": {
        "id": "BF9MMjoZjSlg",
        "colab_type": "text"
      },
      "cell_type": "markdown",
      "source": [
        "#### print first five rows"
      ]
    },
    {
      "metadata": {
        "id": "1vSMQdnHjYNU",
        "colab_type": "code",
        "colab": {}
      },
      "cell_type": "code",
      "source": [
        "print(wine_df.head())"
      ],
      "execution_count": 0,
      "outputs": []
    },
    {
      "metadata": {
        "id": "Tet6P2DvjY3T",
        "colab_type": "text"
      },
      "cell_type": "markdown",
      "source": [
        "#### assign wine_df to a different variable wine_df_copy and then delete all odd rows of wine_df_copy\n",
        "\n",
        "[Hint](https://pandas.pydata.org/pandas-docs/stable/generated/pandas.DataFrame.drop.html)"
      ]
    },
    {
      "metadata": {
        "id": "CMj3qSdJjx0u",
        "colab_type": "code",
        "colab": {}
      },
      "cell_type": "code",
      "source": [
        "wine_df_copy = wine_df.iloc[::2]\n"
      ],
      "execution_count": 0,
      "outputs": []
    },
    {
      "metadata": {
        "id": "o6Cs6T1Rjz71",
        "colab_type": "text"
      },
      "cell_type": "markdown",
      "source": [
        "#### Assign the columns as below:\n",
        "\n",
        "The attributes are (dontated by Riccardo Leardi, riclea '@' anchem.unige.it):  \n",
        "1) Alcohol  \n",
        "2) Malic acid  \n",
        "3) Ash  \n",
        "4) Alcalinity of ash  \n",
        "5) Magnesium  \n",
        "6) Total phenols  \n",
        "7) Flavanoids  \n",
        "8) Nonflavanoid phenols  \n",
        "9) Proanthocyanins  \n",
        "10)Color intensity  \n",
        "11)Hue  \n",
        "12)OD280/OD315 of diluted wines  \n",
        "13)Proline "
      ]
    },
    {
      "metadata": {
        "id": "my8HB4V4j779",
        "colab_type": "code",
        "colab": {}
      },
      "cell_type": "code",
      "source": [
        "wine_df.columns = [' ', 'Alcohol', 'Malic acid', 'Ash', 'Alcalinity of ash', 'Magnesium', 'Total phenols', 'Flavanoids', 'Nonflavanoid phenols', 'Proanthocyanins', 'Color intensity', 'Hue', 'OD280/OD315 of diluted wines', 'Proline']\n"
      ],
      "execution_count": 0,
      "outputs": []
    },
    {
      "metadata": {
        "id": "Zqi7hwWpkNbH",
        "colab_type": "text"
      },
      "cell_type": "markdown",
      "source": [
        "#### Set the values of the first 3 rows from alcohol as NaN\n",
        "\n",
        "Hint- Use iloc to select 3 rows of wine_df"
      ]
    },
    {
      "metadata": {
        "id": "buyT4vX4kPMl",
        "colab_type": "code",
        "colab": {}
      },
      "cell_type": "code",
      "source": [
        "wine_df.iloc[:3].np.nan\n"
      ],
      "execution_count": 0,
      "outputs": []
    },
    {
      "metadata": {
        "id": "RQMNI2UHkP3o",
        "colab_type": "text"
      },
      "cell_type": "markdown",
      "source": [
        "#### Create an array of 10 random numbers uptill 10 and assign it to a  variable named `random`"
      ]
    },
    {
      "metadata": {
        "id": "xunmCjaEmDwZ",
        "colab_type": "code",
        "colab": {}
      },
      "cell_type": "code",
      "source": [
        "import random\n",
        "arr = random.sample(range(0, 10), 10)"
      ],
      "execution_count": 0,
      "outputs": []
    },
    {
      "metadata": {
        "id": "hELUakyXmFSu",
        "colab_type": "text"
      },
      "cell_type": "markdown",
      "source": [
        "#### Use random numbers you generated as an index and assign NaN value to each of cell of the column alcohol"
      ]
    },
    {
      "metadata": {
        "id": "zMgaNnNHmP01",
        "colab_type": "code",
        "colab": {}
      },
      "cell_type": "code",
      "source": [
        ""
      ],
      "execution_count": 0,
      "outputs": []
    },
    {
      "metadata": {
        "id": "PHyK_vRsmRwV",
        "colab_type": "text"
      },
      "cell_type": "markdown",
      "source": [
        "####  How many missing values do we have? \n",
        "\n",
        "Hint: you can use isnull() and sum()"
      ]
    },
    {
      "metadata": {
        "id": "EnOYhmEqmfKp",
        "colab_type": "code",
        "colab": {}
      },
      "cell_type": "code",
      "source": [
        ""
      ],
      "execution_count": 0,
      "outputs": []
    },
    {
      "metadata": {
        "id": "-Fd4WBklmf1_",
        "colab_type": "text"
      },
      "cell_type": "markdown",
      "source": [
        "#### Delete the rows that contain missing values "
      ]
    },
    {
      "metadata": {
        "id": "As7IC6Ktms8-",
        "colab_type": "code",
        "colab": {}
      },
      "cell_type": "code",
      "source": [
        ""
      ],
      "execution_count": 0,
      "outputs": []
    },
    {
      "metadata": {
        "id": "DlpG8drhmz7W",
        "colab_type": "text"
      },
      "cell_type": "markdown",
      "source": [
        "### BONUS: Play with the data set below"
      ]
    },
    {
      "metadata": {
        "id": "mD40T0Cnm5SA",
        "colab_type": "code",
        "colab": {}
      },
      "cell_type": "code",
      "source": [
        ""
      ],
      "execution_count": 0,
      "outputs": []
    }
  ]
}